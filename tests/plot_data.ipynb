{
 "cells": [
  {
   "cell_type": "code",
   "execution_count": null,
   "metadata": {},
   "outputs": [],
   "source": [
    "import pandas as pd\n",
    "import matplotlib.pyplot as plt"
   ]
  },
  {
   "cell_type": "code",
   "execution_count": null,
   "metadata": {},
   "outputs": [],
   "source": [
    "df = pd.read_csv(\"data.csv\", header=None) # change file name\n",
    "x = [i for i in len(df)]\n",
    "\n",
    "plt.plot(x, df[0], label='current weight')\n",
    "plt.plot(x, df[1], label='expected weight')\n",
    "\n",
    "# change plot labels\n",
    "plt.xlabel(\"time (2s)\")\n",
    "plt.ylabel(\"weight (g)\")\n",
    "plt.legend()\n",
    "plt.show()"
   ]
  }
 ],
 "metadata": {
  "language_info": {
   "name": "python"
  }
 },
 "nbformat": 4,
 "nbformat_minor": 2
}
